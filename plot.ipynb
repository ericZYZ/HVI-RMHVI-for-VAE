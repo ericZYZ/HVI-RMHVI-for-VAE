{
 "cells": [
  {
   "cell_type": "code",
   "execution_count": 1,
   "metadata": {},
   "outputs": [],
   "source": [
    "import matplotlib.pyplot as plt\n",
    "import numpy as np"
   ]
  },
  {
   "cell_type": "code",
   "execution_count": 9,
   "metadata": {},
   "outputs": [],
   "source": [
    "#results_path = 'F:\\\\Cambridge\\\\Project\\\\MHMC-for-VAE\\\\VAE\\\\L_results\\\\result2_'\n",
    "results_path = 'F:\\\\Cambridge\\\\Project\\\\MHMC-for-VAE\\\\VAE\\\\result13\\\\result13_'\n",
    "test_results_path = 'F:\\\\Cambridge\\\\Project\\\\MHMC-for-VAE\\\\VAE\\\\result13\\\\result13_test_'\n",
    "num_epoch = 20"
   ]
  },
  {
   "cell_type": "code",
   "execution_count": 10,
   "metadata": {},
   "outputs": [],
   "source": [
    "epoch = []\n",
    "for i in range(num_epoch):\n",
    "    file = open(results_path+str(i)+'.txt','r')\n",
    "    #file = open('F:\\\\Cambridge\\\\Project\\\\MHMC-for-VAE\\\\VAE\\\\L_results\\\\result_1.txt', 'r') \n",
    "    #print (file.read()) \n",
    "    line = file.read().split()\n",
    "    line = [float(e) for e in line]\n",
    "    epoch.append(line)\n",
    "test_epoch = []\n",
    "for i in range(num_epoch):\n",
    "    test_file = open(test_results_path+str(i)+'.txt','r')\n",
    "    #file = open('F:\\\\Cambridge\\\\Project\\\\MHMC-for-VAE\\\\VAE\\\\L_results\\\\result_1.txt', 'r') \n",
    "    #print (file.read()) \n",
    "    line = test_file.read().split()\n",
    "    line = [float(e) for e in line]\n",
    "    test_epoch.append(line)"
   ]
  },
  {
   "cell_type": "code",
   "execution_count": 11,
   "metadata": {},
   "outputs": [],
   "source": [
    "mean_list = []\n",
    "for i in range(num_epoch):\n",
    "    mean_list.append(np.mean(epoch[i]))\n",
    "    \n",
    "test_mean_list = []\n",
    "for i in range(num_epoch):\n",
    "    test_mean_list.append(np.mean(test_epoch[i]))"
   ]
  },
  {
   "cell_type": "code",
   "execution_count": 28,
   "metadata": {},
   "outputs": [],
   "source": [
    "mean_list = [(0-e) for e in mean_list]\n",
    "test_mean_list = [(0-e) for e in test_mean_list]"
   ]
  },
  {
   "cell_type": "code",
   "execution_count": 12,
   "metadata": {},
   "outputs": [
    {
     "data": {
      "text/plain": [
       "[-142.53429132229738,\n",
       " -117.12659007806514,\n",
       " -112.45982268115858,\n",
       " -110.34419942664694,\n",
       " -109.01495769639006,\n",
       " -108.03874184582025,\n",
       " -107.34086407171384,\n",
       " -106.82419504844812,\n",
       " -106.35209437779018,\n",
       " -105.99998540003925,\n",
       " -105.73916236373154,\n",
       " -105.42148726733762,\n",
       " -105.19125654956679,\n",
       " -104.91844400922372,\n",
       " -104.70056301190147,\n",
       " -104.59546496263191,\n",
       " -104.4087008087874,\n",
       " -104.20657316911449,\n",
       " -104.07880483761525,\n",
       " -103.93891526081923]"
      ]
     },
     "execution_count": 12,
     "metadata": {},
     "output_type": "execute_result"
    }
   ],
   "source": [
    "mean_list"
   ]
  },
  {
   "cell_type": "code",
   "execution_count": 13,
   "metadata": {},
   "outputs": [
    {
     "data": {
      "text/plain": [
       "[-119.73830127108629,\n",
       " -113.20741335145986,\n",
       " -110.30953600452204,\n",
       " -109.18273619633571,\n",
       " -108.4564407251443,\n",
       " -107.72277103108206,\n",
       " -107.19616942193097,\n",
       " -106.4677811154894,\n",
       " -107.11328776171253,\n",
       " -106.46033769352421,\n",
       " -106.18982516732186,\n",
       " -106.52887570326496,\n",
       " -106.08215803401485,\n",
       " -105.74414713671253,\n",
       " -106.14606582738791,\n",
       " -105.49585544075936,\n",
       " -105.16329363197278,\n",
       " -105.39275063678717,\n",
       " -105.22868094474647,\n",
       " -105.06874657892118]"
      ]
     },
     "execution_count": 13,
     "metadata": {},
     "output_type": "execute_result"
    }
   ],
   "source": [
    "test_mean_list"
   ]
  },
  {
   "cell_type": "code",
   "execution_count": 7,
   "metadata": {},
   "outputs": [
    {
     "data": {
      "text/plain": [
       "Text(0.5,1,'Lower bound of logp(x)')"
      ]
     },
     "execution_count": 7,
     "metadata": {},
     "output_type": "execute_result"
    },
    {
     "data": {
      "image/png": "[encoded data removed]",
      "text/plain": [
       "<matplotlib.figure.Figure at 0x1dacdc3f080>"
      ]
     },
     "metadata": {},
     "output_type": "display_data"
    }
   ],
   "source": [
    "x = list(range(num_epoch))\n",
    "plt.plot(x,mean_list)\n",
    "plt.title('Lower bound of logp(x)')"
   ]
  },
  {
   "cell_type": "code",
   "execution_count": 8,
   "metadata": {},
   "outputs": [
    {
     "data": {
      "text/plain": [
       "Text(0.5,1,'Test Lower bound of logp(x)')"
      ]
     },
     "execution_count": 8,
     "metadata": {},
     "output_type": "execute_result"
    },
    {
     "data": {
      "image/png": "[encoded data removed]",
      "text/plain": [
       "<matplotlib.figure.Figure at 0x1daccd2da58>"
      ]
     },
     "metadata": {},
     "output_type": "display_data"
    }
   ],
   "source": [
    "x = list(range(num_epoch))\n",
    "plt.plot(x,test_mean_list)\n",
    "plt.title('Test Lower bound of logp(x)')"
   ]
  },
  {
   "cell_type": "code",
   "execution_count": null,
   "metadata": {},
   "outputs": [],
   "source": []
  }
 ],
 "metadata": {
  "kernelspec": {
   "display_name": "Python 3",
   "language": "python",
   "name": "python3"
  },
  "language_info": {
   "codemirror_mode": {
    "name": "ipython",
    "version": 3
   },
   "file_extension": ".py",
   "mimetype": "text/x-python",
   "name": "python",
   "nbconvert_exporter": "python",
   "pygments_lexer": "ipython3",
   "version": "3.5.4"
  }
 },
 "nbformat": 4,
 "nbformat_minor": 2
}
