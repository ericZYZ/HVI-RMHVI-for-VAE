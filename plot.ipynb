{
 "cells": [
  {
   "cell_type": "code",
   "execution_count": 1,
   "metadata": {},
   "outputs": [],
   "source": [
    "import matplotlib.pyplot as plt\n",
    "import numpy as np"
   ]
  },
  {
   "cell_type": "code",
   "execution_count": 24,
   "metadata": {},
   "outputs": [],
   "source": [
    "#results_path = 'F:\\\\Cambridge\\\\Project\\\\MHMC-for-VAE\\\\VAE\\\\L_results\\\\result2_'\n",
    "results_path = 'F:\\\\Cambridge\\\\Project\\\\MHMC-for-VAE\\\\VAE\\\\result10\\\\result10_'\n",
    "test_results_path = 'F:\\\\Cambridge\\\\Project\\\\MHMC-for-VAE\\\\VAE\\\\result10\\\\result10_test_'\n",
    "num_epoch = 20"
   ]
  },
  {
   "cell_type": "code",
   "execution_count": 25,
   "metadata": {},
   "outputs": [],
   "source": [
    "epoch = []\n",
    "for i in range(num_epoch):\n",
    "    file = open(results_path+str(i)+'.txt','r')\n",
    "    #file = open('F:\\\\Cambridge\\\\Project\\\\MHMC-for-VAE\\\\VAE\\\\L_results\\\\result_1.txt', 'r') \n",
    "    #print (file.read()) \n",
    "    line = file.read().split()\n",
    "    line = [float(e) for e in line]\n",
    "    epoch.append(line)\n",
    "test_epoch = []\n",
    "for i in range(num_epoch):\n",
    "    test_file = open(test_results_path+str(i)+'.txt','r')\n",
    "    #file = open('F:\\\\Cambridge\\\\Project\\\\MHMC-for-VAE\\\\VAE\\\\L_results\\\\result_1.txt', 'r') \n",
    "    #print (file.read()) \n",
    "    line = test_file.read().split()\n",
    "    line = [float(e) for e in line]\n",
    "    test_epoch.append(line)"
   ]
  },
  {
   "cell_type": "code",
   "execution_count": 26,
   "metadata": {},
   "outputs": [],
   "source": [
    "mean_list = []\n",
    "for i in range(num_epoch):\n",
    "    mean_list.append(np.mean(epoch[i]))\n",
    "    \n",
    "test_mean_list = []\n",
    "for i in range(num_epoch):\n",
    "    test_mean_list.append(np.mean(test_epoch[i]))"
   ]
  },
  {
   "cell_type": "code",
   "execution_count": 28,
   "metadata": {},
   "outputs": [],
   "source": [
    "mean_list = [(0-e) for e in mean_list]\n",
    "test_mean_list = [(0-e) for e in test_mean_list]"
   ]
  },
  {
   "cell_type": "code",
   "execution_count": 29,
   "metadata": {},
   "outputs": [
    {
     "data": {
      "text/plain": [
       "[-133.11983939782897,\n",
       " -109.92927007126147,\n",
       " -107.01021205031796,\n",
       " -105.58394547159483,\n",
       " -104.67181893452398,\n",
       " -104.02974221853813,\n",
       " -103.53665057021672,\n",
       " -103.11843933886303,\n",
       " -102.77615924176376,\n",
       " -102.51166372563539,\n",
       " -102.21305232261544,\n",
       " -101.96714410192169,\n",
       " -101.77747027757071,\n",
       " -101.66527993338448,\n",
       " -101.4937784483692,\n",
       " -101.34008481609287,\n",
       " -101.21668636265086,\n",
       " -101.13455117231747,\n",
       " -100.96546054343933,\n",
       " -100.98683386926712]"
      ]
     },
     "execution_count": 29,
     "metadata": {},
     "output_type": "execute_result"
    }
   ],
   "source": [
    "mean_list"
   ]
  },
  {
   "cell_type": "code",
   "execution_count": 30,
   "metadata": {},
   "outputs": [
    {
     "data": {
      "text/plain": [
       "[-111.79790778676416,\n",
       " -107.58158816197876,\n",
       " -106.02542036506021,\n",
       " -104.86992193331385,\n",
       " -104.2157310437245,\n",
       " -103.7606273092282,\n",
       " -103.57964427000398,\n",
       " -103.38163664993967,\n",
       " -102.86807838974485,\n",
       " -102.74481215750336,\n",
       " -102.57675443029707,\n",
       " -102.66102133586908,\n",
       " -102.64808406951322,\n",
       " -102.65489167620422,\n",
       " -102.54919244073758,\n",
       " -102.1260248658004,\n",
       " -102.54704653988978,\n",
       " -102.278175694168,\n",
       " -102.08674295996404,\n",
       " -102.17161423992958]"
      ]
     },
     "execution_count": 30,
     "metadata": {},
     "output_type": "execute_result"
    }
   ],
   "source": [
    "test_mean_list"
   ]
  },
  {
   "cell_type": "code",
   "execution_count": 31,
   "metadata": {},
   "outputs": [
    {
     "data": {
      "text/plain": [
       "Text(0.5,1,'Lower bound of logp(x)')"
      ]
     },
     "execution_count": 31,
     "metadata": {},
     "output_type": "execute_result"
    },
    {
     "data": {
      "image/png": "[encoded data removed]",
      "text/plain": [
       "<matplotlib.figure.Figure at 0x278990ec278>"
      ]
     },
     "metadata": {},
     "output_type": "display_data"
    }
   ],
   "source": [
    "x = list(range(num_epoch))\n",
    "plt.plot(x,mean_list)\n",
    "plt.title('Lower bound of logp(x)')"
   ]
  },
  {
   "cell_type": "code",
   "execution_count": 32,
   "metadata": {},
   "outputs": [
    {
     "data": {
      "text/plain": [
       "Text(0.5,1,'Test Lower bound of logp(x)')"
      ]
     },
     "execution_count": 32,
     "metadata": {},
     "output_type": "execute_result"
    },
    {
     "data": {
      "image/png": "[encoded data removed]",
      "text/plain": [
       "<matplotlib.figure.Figure at 0x2789a73b4e0>"
      ]
     },
     "metadata": {},
     "output_type": "display_data"
    }
   ],
   "source": [
    "x = list(range(num_epoch))\n",
    "plt.plot(x,test_mean_list)\n",
    "plt.title('Test Lower bound of logp(x)')"
   ]
  },
  {
   "cell_type": "code",
   "execution_count": null,
   "metadata": {},
   "outputs": [],
   "source": []
  }
 ],
 "metadata": {
  "kernelspec": {
   "display_name": "Python 3",
   "language": "python",
   "name": "python3"
  },
  "language_info": {
   "codemirror_mode": {
    "name": "ipython",
    "version": 3
   },
   "file_extension": ".py",
   "mimetype": "text/x-python",
   "name": "python",
   "nbconvert_exporter": "python",
   "pygments_lexer": "ipython3",
   "version": "3.5.4"
  }
 },
 "nbformat": 4,
 "nbformat_minor": 2
}
