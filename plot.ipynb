{
 "cells": [
  {
   "cell_type": "code",
   "execution_count": 1,
   "metadata": {},
   "outputs": [],
   "source": [
    "import matplotlib.pyplot as plt\n",
    "import numpy as np"
   ]
  },
  {
   "cell_type": "code",
   "execution_count": 2,
   "metadata": {},
   "outputs": [],
   "source": [
    "#results_path = 'F:\\\\Cambridge\\\\Project\\\\MHMC-for-VAE\\\\VAE\\\\L_results\\\\result2_'\n",
    "results_path = 'F:\\\\Cambridge\\\\Project\\\\MHMC-for-VAE\\\\VAE\\\\result5\\\\result5_'\n",
    "test_results_path = 'F:\\\\Cambridge\\\\Project\\\\MHMC-for-VAE\\\\VAE\\\\result5\\\\result5_test_'"
   ]
  },
  {
   "cell_type": "code",
   "execution_count": 3,
   "metadata": {},
   "outputs": [],
   "source": [
    "epoch = []\n",
    "for i in range(10):\n",
    "    file = open(results_path+str(i)+'.txt','r')\n",
    "    #file = open('F:\\\\Cambridge\\\\Project\\\\MHMC-for-VAE\\\\VAE\\\\L_results\\\\result_1.txt', 'r') \n",
    "    #print (file.read()) \n",
    "    line = file.read().split()\n",
    "    line = [float(e) for e in line]\n",
    "    epoch.append(line)\n",
    "test_epoch = []\n",
    "for i in range(10):\n",
    "    test_file = open(test_results_path+str(i)+'.txt','r')\n",
    "    #file = open('F:\\\\Cambridge\\\\Project\\\\MHMC-for-VAE\\\\VAE\\\\L_results\\\\result_1.txt', 'r') \n",
    "    #print (file.read()) \n",
    "    line = test_file.read().split()\n",
    "    line = [float(e) for e in line]\n",
    "    test_epoch.append(line)"
   ]
  },
  {
   "cell_type": "code",
   "execution_count": 4,
   "metadata": {},
   "outputs": [],
   "source": [
    "mean_list = []\n",
    "for i in range(10):\n",
    "    mean_list.append(np.mean(epoch[i]))\n",
    "    \n",
    "test_mean_list = []\n",
    "for i in range(10):\n",
    "    test_mean_list.append(np.mean(test_epoch[i]))"
   ]
  },
  {
   "cell_type": "code",
   "execution_count": 5,
   "metadata": {},
   "outputs": [],
   "source": [
    "mean_list = [(0-e) for e in mean_list]\n",
    "test_mean_list = [(0-e) for e in test_mean_list]"
   ]
  },
  {
   "cell_type": "code",
   "execution_count": 6,
   "metadata": {},
   "outputs": [
    {
     "data": {
      "text/plain": [
       "[-159.34299355122582,\n",
       " -105.11452256387739,\n",
       " -93.227335020931548,\n",
       " -87.281468617128155,\n",
       " -85.860017650417177,\n",
       " -86.5916860129025,\n",
       " -87.701217464292483,\n",
       " -88.638521515738475,\n",
       " -89.419410965844264,\n",
       " -88.674329086661587]"
      ]
     },
     "execution_count": 6,
     "metadata": {},
     "output_type": "execute_result"
    }
   ],
   "source": [
    "mean_list"
   ]
  },
  {
   "cell_type": "code",
   "execution_count": 7,
   "metadata": {},
   "outputs": [
    {
     "data": {
      "text/plain": [
       "[-112.95303223239388,\n",
       " -96.630905734505617,\n",
       " -89.289589365576489,\n",
       " -86.76665263570797,\n",
       " -85.622155790875667,\n",
       " -89.68166934456795,\n",
       " -91.352756670326187,\n",
       " -86.546263725134978,\n",
       " -81.014805593308367,\n",
       " -87.817800582594174]"
      ]
     },
     "execution_count": 7,
     "metadata": {},
     "output_type": "execute_result"
    }
   ],
   "source": [
    "test_mean_list"
   ]
  },
  {
   "cell_type": "code",
   "execution_count": 8,
   "metadata": {},
   "outputs": [
    {
     "data": {
      "text/plain": [
       "Text(0.5,1,'Lower bound of logp(x)')"
      ]
     },
     "execution_count": 8,
     "metadata": {},
     "output_type": "execute_result"
    },
    {
     "data": {
      "image/png": "[encoded data removed]",
      "text/plain": [
       "<matplotlib.figure.Figure at 0x17f149680f0>"
      ]
     },
     "metadata": {},
     "output_type": "display_data"
    }
   ],
   "source": [
    "x = [1,2,3,4,5,6,7,8,9,10]\n",
    "plt.plot(x,mean_list)\n",
    "plt.title('Lower bound of logp(x)')"
   ]
  },
  {
   "cell_type": "code",
   "execution_count": 10,
   "metadata": {},
   "outputs": [
    {
     "data": {
      "text/plain": [
       "Text(0.5,1,'Test Lower bound of logp(x)')"
      ]
     },
     "execution_count": 10,
     "metadata": {},
     "output_type": "execute_result"
    },
    {
     "data": {
      "image/png": "[encoded data removed]",
      "text/plain": [
       "<matplotlib.figure.Figure at 0x17f14c38320>"
      ]
     },
     "metadata": {},
     "output_type": "display_data"
    }
   ],
   "source": [
    "x = [1,2,3,4,5,6,7,8,9,10]\n",
    "plt.plot(x,test_mean_list)\n",
    "plt.title('Test Lower bound of logp(x)')"
   ]
  },
  {
   "cell_type": "code",
   "execution_count": null,
   "metadata": {},
   "outputs": [],
   "source": []
  }
 ],
 "metadata": {
  "kernelspec": {
   "display_name": "Python 3",
   "language": "python",
   "name": "python3"
  },
  "language_info": {
   "codemirror_mode": {
    "name": "ipython",
    "version": 3
   },
   "file_extension": ".py",
   "mimetype": "text/x-python",
   "name": "python",
   "nbconvert_exporter": "python",
   "pygments_lexer": "ipython3",
   "version": "3.5.4"
  }
 },
 "nbformat": 4,
 "nbformat_minor": 2
}
