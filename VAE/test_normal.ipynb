{
 "cells": [
  {
   "cell_type": "code",
   "execution_count": 1,
   "metadata": {},
   "outputs": [],
   "source": [
    "import sys\n",
    "sys.path.append('F:\\Cambridge\\Project\\MHMC-for-VAE\\change_of_variable')\n",
    "sys.path.append('F:\\Cambridge\\Project\\MHMC-for-VAE\\hmc_pytorch')\n",
    "from change_of_variable_pytorch import * \n",
    "from hmc_base_pytorch import *\n",
    "from hmc_unconstrained_pytorch import *\n",
    "import numpy as np\n",
    "import math\n",
    "import torch\n",
    "import torch.nn as nn\n",
    "import torch.nn.functional as F\n",
    "from torch.distributions.multivariate_normal import MultivariateNormal\n",
    "from torch.distributions.normal import Normal\n",
    "import matplotlib.pyplot as plt\n",
    "\n",
    "import torch.utils.data\n",
    "from torch import optim\n",
    "from torchvision import datasets, transforms\n",
    "from torchvision.utils import save_image\n",
    "import time\n",
    "import torchvision\n",
    "\n",
    "\n"
   ]
  },
  {
   "cell_type": "code",
   "execution_count": 41,
   "metadata": {},
   "outputs": [],
   "source": [
    "def multivariate_normal_diagonal_logpdf(mean, cov_diag, x):\n",
    "    n = x.shape[0] # number of samples\n",
    "    k = x.shape[1] # dimension\n",
    "    t1 = -0.5*(x - mean)*(1/cov_diag)*(x-mean)\n",
    "    print(t1.shape)\n",
    "    t1 = torch.sum(t1, dim=1)\n",
    "    print(t1.shape)\n",
    "    t21 = torch.ones(n)*0.5*k*torch.log(torch.tensor([2*math.pi])) \n",
    "    print(t21)\n",
    "    t22 = 0.5*torch.sum(torch.log(cov_diag),dim=1)\n",
    "    print(t22)\n",
    "    t2 = t21 + t22\n",
    "    return t1 - t2"
   ]
  },
  {
   "cell_type": "code",
   "execution_count": 42,
   "metadata": {},
   "outputs": [],
   "source": [
    "mean = torch.tensor([[-0.5,0.,0.],[0.,0.,0.]])\n",
    "cov_diag = torch.tensor([[1.,0.5,1.],[1.,1.,1.]])\n",
    "x = torch.tensor([[0.,0.,0.],[0.,0.,0.]])"
   ]
  },
  {
   "cell_type": "code",
   "execution_count": 43,
   "metadata": {},
   "outputs": [
    {
     "name": "stdout",
     "output_type": "stream",
     "text": [
      "torch.Size([2, 3])\n",
      "torch.Size([2])\n",
      "tensor([ 2.7568,  2.7568])\n",
      "tensor([-0.3466,  0.0000])\n"
     ]
    },
    {
     "data": {
      "text/plain": [
       "tensor([-2.5352, -2.7568])"
      ]
     },
     "execution_count": 43,
     "metadata": {},
     "output_type": "execute_result"
    }
   ],
   "source": [
    "multivariate_normal_diagonal_logpdf(mean, cov_diag, x)"
   ]
  },
  {
   "cell_type": "code",
   "execution_count": 34,
   "metadata": {},
   "outputs": [
    {
     "data": {
      "text/plain": [
       "tensor([-2.5352])"
      ]
     },
     "execution_count": 34,
     "metadata": {},
     "output_type": "execute_result"
    }
   ],
   "source": [
    "mean = torch.tensor([[-0.5,0.,0.]])\n",
    "cov = torch.eye(3)\n",
    "cov = torch.tensor([[1.,0.,0.],[0.,0.5,0.],[0.,0.,1.]])\n",
    "x = torch.tensor([[0.,0.,0.]])\n",
    "m = MultivariateNormal(mean, cov)\n",
    "m.requires_grad=True\n",
    "m.log_prob(x)"
   ]
  },
  {
   "cell_type": "code",
   "execution_count": null,
   "metadata": {},
   "outputs": [],
   "source": []
  },
  {
   "cell_type": "code",
   "execution_count": null,
   "metadata": {},
   "outputs": [],
   "source": []
  },
  {
   "cell_type": "code",
   "execution_count": null,
   "metadata": {},
   "outputs": [],
   "source": []
  },
  {
   "cell_type": "code",
   "execution_count": 70,
   "metadata": {},
   "outputs": [
    {
     "data": {
      "text/plain": [
       "tensor([[ 0.0000, -0.3333],\n",
       "        [-0.3333, -0.3333],\n",
       "        [ 0.0000,  0.0000]])"
      ]
     },
     "execution_count": 70,
     "metadata": {},
     "output_type": "execute_result"
    }
   ],
   "source": [
    "m = torch.tensor([[0.,0.],[0.,0.],[0.,0.]], requires_grad=True)\n",
    "cov = torch.tensor([[1.,1.],[1.,1.],[1.,1.]], requires_grad=True)\n",
    "x =  torch.tensor([[0.,1.],[1.,1.],[0.,0.]], requires_grad=True)\n",
    "#loss = torch.mean(multivariate_normal_diagonal_logpdf(m, cov, x))\n",
    "loss = torch.mean(log_prior(x))\n",
    "loss.backward()\n",
    "x.grad"
   ]
  }
 ],
 "metadata": {
  "kernelspec": {
   "display_name": "Python 3",
   "language": "python",
   "name": "python3"
  },
  "language_info": {
   "codemirror_mode": {
    "name": "ipython",
    "version": 3
   },
   "file_extension": ".py",
   "mimetype": "text/x-python",
   "name": "python",
   "nbconvert_exporter": "python",
   "pygments_lexer": "ipython3",
   "version": "3.5.4"
  }
 },
 "nbformat": 4,
 "nbformat_minor": 2
}
