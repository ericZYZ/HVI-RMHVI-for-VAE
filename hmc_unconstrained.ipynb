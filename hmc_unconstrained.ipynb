{
 "cells": [
  {
   "cell_type": "code",
   "execution_count": null,
   "metadata": {},
   "outputs": [],
   "source": [
    "# -*- coding: utf-8 -*-\n",
    "\"\"\" Numpy implementations of unconstrained Euclidean metric HMC samplers. \"\"\"\n",
    "\n",
    "import numpy as np\n",
    "import scipy.linalg as la\n",
    "from .base import AbstractHmcSampler\n",
    "\n",
    "\n",
    "class IsotropicHmcSampler(AbstractHmcSampler):\n",
    "    \"\"\"Standard unconstrained HMC sampler with identity mass matrix. \"\"\"\n",
    "\n",
    "    def kinetic_energy(self, pos, mom, cache={}):\n",
    "        return 0.5 * mom.dot(mom)\n",
    "\n",
    "    def simulate_dynamic(self, n_step, dt, pos, mom, cache={}):\n",
    "        mom = mom - 0.5 * dt * self.energy_grad(pos, cache)\n",
    "        pos = pos + dt * mom\n",
    "        for s in range(1, n_step):\n",
    "            mom -= dt * self.energy_grad(pos, cache)\n",
    "            pos += dt * mom\n",
    "        mom -= 0.5 * dt * self.energy_grad(pos, cache)\n",
    "        return pos, mom, None\n",
    "\n",
    "    def sample_independent_momentum_given_position(self, pos, cache={}):\n",
    "        return self.prng.normal(size=pos.shape[0]).astype(self.dtype)\n",
    "\n",
    "\n",
    "class EuclideanMetricHmcSampler(IsotropicHmcSampler):\n",
    "    \"\"\"Standard unconstrained HMC sampler with constant mass matrix. \"\"\"\n",
    "\n",
    "    def __init__(self, energy_func, mass_matrix, energy_grad=None, prng=None,\n",
    "                 mom_resample_coeff=1., dtype=np.float64):\n",
    "        super(EuclideanMetricHmcSampler, self).__init__(\n",
    "            energy_func, energy_grad, prng, mom_resample_coeff, dtype)\n",
    "        self.mass_matrix = mass_matrix\n",
    "        self.mass_matrix_chol = la.cholesky(mass_matrix, lower=True)\n",
    "\n",
    "    def kinetic_energy(self, pos, mom, cache={}):\n",
    "        return 0.5 * mom.dot(la.cho_solve(\n",
    "            (self.mass_matrix_chol, True), mom))\n",
    "\n",
    "    def simulate_dynamic(self, n_step, dt, pos, mom, cache={}):\n",
    "        mom = mom - 0.5 * dt * self.energy_grad(pos, cache)\n",
    "        pos = pos + dt * la.cho_solve((self.mass_matrix_chol, True), mom)\n",
    "        for s in range(1, n_step):\n",
    "            mom -= dt * self.energy_grad(pos, cache)\n",
    "            pos += dt * la.cho_solve((self.mass_matrix_chol, True), mom)\n",
    "        mom -= 0.5 * dt * self.energy_grad(pos, cache)\n",
    "        return pos, mom, None\n",
    "\n",
    "    def sample_independent_momentum_given_position(self, pos, cache={}):\n",
    "        return (self.mass_matrix_chol.dot(\n",
    "            self.prng.normal(size=pos.shape[0]))).astype(self.dtype)"
   ]
  }
 ],
 "metadata": {
  "kernelspec": {
   "display_name": "Python 3",
   "language": "python",
   "name": "python3"
  },
  "language_info": {
   "codemirror_mode": {
    "name": "ipython",
    "version": 3
   },
   "file_extension": ".py",
   "mimetype": "text/x-python",
   "name": "python",
   "nbconvert_exporter": "python",
   "pygments_lexer": "ipython3",
   "version": "3.5.4"
  }
 },
 "nbformat": 4,
 "nbformat_minor": 2
}
