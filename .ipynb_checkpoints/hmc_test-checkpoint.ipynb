{
 "cells": [
  {
   "cell_type": "code",
   "execution_count": 90,
   "metadata": {},
   "outputs": [],
   "source": [
    "from hmc_base import *\n",
    "from hmc_unconstrained import *\n",
    "import autograd.numpy as np\n",
    "import matplotlib.pyplot as plt\n",
    "from scipy.special import beta"
   ]
  },
  {
   "cell_type": "markdown",
   "metadata": {},
   "source": [
    "# Import data from LearnBayes package"
   ]
  },
  {
   "cell_type": "code",
   "execution_count": 70,
   "metadata": {},
   "outputs": [],
   "source": [
    "# get data pair list\n",
    "file = open(\"cancermortality.txt\", \"r\") \n",
    "data = (file.read()) \n",
    "tmp = data.split()\n",
    "tmp = tmp[2:len(tmp)]\n",
    "tmp = [int(e) for e in tmp]\n",
    "data_list = []\n",
    "for i in range(0, int(len(tmp)-1), 2):\n",
    "    data_list.append([tmp[i], tmp[i+1]])"
   ]
  },
  {
   "cell_type": "code",
   "execution_count": 110,
   "metadata": {},
   "outputs": [],
   "source": [
    "# get death number list\n",
    "death = []\n",
    "for i in range(len(data_list)):\n",
    "    death.append(data_list[i][0])\n",
    "# convert to np array\n",
    "death = np.array(death)\n",
    "\n",
    "# get risk number list\n",
    "risk = []\n",
    "for i in range(len(data_list)):\n",
    "    risk.append(data_list[i][1])\n",
    "# convert to np array\n",
    "risk = np.array(risk)"
   ]
  },
  {
   "cell_type": "markdown",
   "metadata": {},
   "source": [
    "# Energy function for position x"
   ]
  },
  {
   "cell_type": "code",
   "execution_count": 120,
   "metadata": {},
   "outputs": [],
   "source": [
    "def posterior(y, n, eta, k):\n",
    "    t1 = 1/(eta*(1-eta))\n",
    "    t2 = 1/np.power((1+k), 2)\n",
    "    t3 = np.prod(beta(k*eta+y, k*(1-eta)+n-y)/beta(k*eta, k*(1-eta)))\n",
    "    final = t1*t2*t3\n",
    "    return final\n",
    "    "
   ]
  },
  {
   "cell_type": "code",
   "execution_count": 122,
   "metadata": {},
   "outputs": [
    {
     "data": {
      "text/plain": [
       "1.5817893276383984e-286"
      ]
     },
     "execution_count": 122,
     "metadata": {},
     "output_type": "execute_result"
    }
   ],
   "source": [
    "posterior(death, risk, 0.01, 1000)"
   ]
  },
  {
   "cell_type": "code",
   "execution_count": 124,
   "metadata": {},
   "outputs": [
    {
     "data": {
      "text/plain": [
       "array([[ 0.0001,  0.0002,  0.0003, ...,  0.0027,  0.0028,  0.0029],\n",
       "       [ 0.0001,  0.0002,  0.0003, ...,  0.0027,  0.0028,  0.0029],\n",
       "       [ 0.0001,  0.0002,  0.0003, ...,  0.0027,  0.0028,  0.0029],\n",
       "       ..., \n",
       "       [ 0.0001,  0.0002,  0.0003, ...,  0.0027,  0.0028,  0.0029],\n",
       "       [ 0.0001,  0.0002,  0.0003, ...,  0.0027,  0.0028,  0.0029],\n",
       "       [ 0.0001,  0.0002,  0.0003, ...,  0.0027,  0.0028,  0.0029]])"
      ]
     },
     "execution_count": 124,
     "metadata": {},
     "output_type": "execute_result"
    }
   ],
   "source": [
    "x = np.arange(0.0001, 0.003, 0.0001)\n",
    "y = np.arange(1, 20000, 10)\n",
    "X, Y = np.meshgrid(x, y)"
   ]
  },
  {
   "cell_type": "code",
   "execution_count": 127,
   "metadata": {},
   "outputs": [
    {
     "data": {
      "text/plain": [
       "(160, 240)"
      ]
     },
     "execution_count": 127,
     "metadata": {},
     "output_type": "execute_result"
    }
   ],
   "source": [
    "delta = 0.025\n",
    "x = np.arange(-3.0, 3.0, delta)\n",
    "y = np.arange(-2.0, 2.0, delta)\n",
    "X, Y = np.meshgrid(x, y)\n",
    "Z1 = np.exp(-X**2 - Y**2)\n",
    "Z2 = np.exp(-(X - 1)**2 - (Y - 1)**2)\n",
    "Z = (Z1 - Z2) * 2\n",
    "Z.shape"
   ]
  },
  {
   "cell_type": "code",
   "execution_count": 9,
   "metadata": {},
   "outputs": [],
   "source": [
    "def gaussian(x, mu, sig):\n",
    "    #return np.exp(-np.power(x - mu, 2.) / (2 * np.power(sig, 2.)))\n",
    "    return 1./(np.sqrt(2.*np.pi)*sig)*np.exp(-np.power((x - mu), 2.)/(2 * np.power(sig, 2.))) "
   ]
  },
  {
   "cell_type": "code",
   "execution_count": 10,
   "metadata": {},
   "outputs": [],
   "source": [
    "def gaussian_energy(x, mu, sig):\n",
    "    gaus = gaussian(x, mu, sig)\n",
    "    return -np.log(gaus)\n"
   ]
  },
  {
   "cell_type": "code",
   "execution_count": 11,
   "metadata": {},
   "outputs": [],
   "source": [
    "def unit_gaussian_energy(x, cache):\n",
    "    gaus = gaussian(x, 0, 1)\n",
    "    return -np.log(gaus)"
   ]
  },
  {
   "cell_type": "code",
   "execution_count": 12,
   "metadata": {},
   "outputs": [
    {
     "data": {
      "text/plain": [
       "0.91893853320467267"
      ]
     },
     "execution_count": 12,
     "metadata": {},
     "output_type": "execute_result"
    }
   ],
   "source": [
    "gaussian_energy(0,0,1)"
   ]
  },
  {
   "cell_type": "code",
   "execution_count": 13,
   "metadata": {},
   "outputs": [],
   "source": [
    "sampler = IsotropicHmcSampler(unit_gaussian_energy, energy_grad=None, prng=None,\n",
    "                 mom_resample_coeff=1., dtype=np.float64)"
   ]
  },
  {
   "cell_type": "code",
   "execution_count": 77,
   "metadata": {},
   "outputs": [],
   "source": [
    "pos_samples, mom_samples, ratio = sampler.get_samples(np.array([5]), 0.1, 10, 1000)"
   ]
  },
  {
   "cell_type": "code",
   "execution_count": 80,
   "metadata": {},
   "outputs": [],
   "source": [
    "pos = pos_samples.ravel()"
   ]
  },
  {
   "cell_type": "code",
   "execution_count": 79,
   "metadata": {},
   "outputs": [
    {
     "data": {
      "text/plain": [
       "[<matplotlib.lines.Line2D at 0x2d5b48dd7b8>]"
      ]
     },
     "execution_count": 79,
     "metadata": {},
     "output_type": "execute_result"
    },
    {
     "data": {
      "image/png": "[encoded data removed]",
      "text/plain": [
       "<matplotlib.figure.Figure at 0x2d5b48edba8>"
      ]
     },
     "metadata": {},
     "output_type": "display_data"
    }
   ],
   "source": [
    "plt.plot(pos)"
   ]
  },
  {
   "cell_type": "code",
   "execution_count": 82,
   "metadata": {},
   "outputs": [
    {
     "name": "stdout",
     "output_type": "stream",
     "text": [
      "0\n",
      "2\n",
      "4\n",
      "6\n",
      "8\n",
      "10\n",
      "12\n",
      "14\n"
     ]
    }
   ],
   "source": [
    "for i in range(8):\n",
    "    def test(x):\n",
    "        return x+i\n",
    "    print(test(i))"
   ]
  },
  {
   "cell_type": "code",
   "execution_count": null,
   "metadata": {},
   "outputs": [],
   "source": []
  }
 ],
 "metadata": {
  "kernelspec": {
   "display_name": "Python 3",
   "language": "python",
   "name": "python3"
  },
  "language_info": {
   "codemirror_mode": {
    "name": "ipython",
    "version": 3
   },
   "file_extension": ".py",
   "mimetype": "text/x-python",
   "name": "python",
   "nbconvert_exporter": "python",
   "pygments_lexer": "ipython3",
   "version": "3.5.4"
  }
 },
 "nbformat": 4,
 "nbformat_minor": 2
}
