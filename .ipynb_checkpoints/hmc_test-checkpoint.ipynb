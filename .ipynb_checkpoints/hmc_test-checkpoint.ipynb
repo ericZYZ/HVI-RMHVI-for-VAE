{
 "cells": [
  {
   "cell_type": "code",
   "execution_count": 1,
   "metadata": {},
   "outputs": [],
   "source": [
    "from hmc_base import *\n",
    "from hmc_unconstrained import *\n",
    "import autograd.numpy as np\n",
    "import matplotlib.pyplot as plt\n",
    "from scipy.special import beta, comb, gamma\n",
    "from scipy.stats import multivariate_normal\n",
    "import operator as op\n",
    "import torch\n",
    "#from autograd.numpy import inf"
   ]
  },
  {
   "cell_type": "markdown",
   "metadata": {},
   "source": [
    "# Import data from LearnBayes package"
   ]
  },
  {
   "cell_type": "code",
   "execution_count": 2,
   "metadata": {},
   "outputs": [],
   "source": [
    "# get data pair list\n",
    "file = open(\"cancermortality.txt\", \"r\") \n",
    "data = (file.read()) \n",
    "tmp = data.split()\n",
    "tmp = tmp[2:len(tmp)]\n",
    "tmp = [int(e) for e in tmp]\n",
    "data_list = []\n",
    "for i in range(0, int(len(tmp)-1), 2):\n",
    "    data_list.append([tmp[i], tmp[i+1]])"
   ]
  },
  {
   "cell_type": "code",
   "execution_count": 3,
   "metadata": {},
   "outputs": [],
   "source": [
    "# get death number list\n",
    "death = []\n",
    "for i in range(len(data_list)):\n",
    "    death.append(data_list[i][0])\n",
    "# convert to np array\n",
    "death = np.array(death)\n",
    "\n",
    "# get risk number list\n",
    "risk = []\n",
    "for i in range(len(data_list)):\n",
    "    risk.append(data_list[i][1])\n",
    "# convert to np array\n",
    "risk = np.array(risk)"
   ]
  },
  {
   "cell_type": "code",
   "execution_count": 4,
   "metadata": {},
   "outputs": [
    {
     "data": {
      "text/plain": [
       "numpy.int32"
      ]
     },
     "execution_count": 4,
     "metadata": {},
     "output_type": "execute_result"
    }
   ],
   "source": [
    "type(risk[0])"
   ]
  },
  {
   "cell_type": "markdown",
   "metadata": {},
   "source": [
    "# Posterior distribution for position x"
   ]
  },
  {
   "cell_type": "code",
   "execution_count": 5,
   "metadata": {},
   "outputs": [],
   "source": [
    "# define posterior probability function for the beta-binomial distribution \n",
    "def posterior(y, n, eta, k):\n",
    "    t1 = 1/(eta*(1-eta))\n",
    "    t2 = 1/np.power((1+k), 2)\n",
    "    t3 = np.prod(beta(k*eta+y, k*(1-eta)+n-y)/beta(k*eta, k*(1-eta)))\n",
    "    final = t1*t2*t3\n",
    "    return final\n",
    "    \n",
    "def log_posterior(y, n, eta, k):\n",
    "    t1 = 0-np.log(eta)-np.log(1-eta)\n",
    "    t2 = 0-2*np.log(1+k)\n",
    "    t3 = np.log(beta(k*eta+y, k*(1-eta)+n-y))-np.log(beta(k*eta, k*(1-eta)))\n",
    "    t3 = np.sum(t3)\n",
    "    final = t1+t2+t3\n",
    "    return final\n",
    "\n",
    "# energy function for posterior\n",
    "def posterior_energy(y, n, eta, k):\n",
    "    post = posterior(y, n, eta, k)\n",
    "    return -np.log(post)"
   ]
  },
  {
   "cell_type": "code",
   "execution_count": 6,
   "metadata": {},
   "outputs": [
    {
     "data": {
      "text/plain": [
       "-658.08077990418951"
      ]
     },
     "execution_count": 6,
     "metadata": {},
     "output_type": "execute_result"
    }
   ],
   "source": [
    "log_posterior(death, risk, 0.01, 1000)"
   ]
  },
  {
   "cell_type": "code",
   "execution_count": 7,
   "metadata": {},
   "outputs": [
    {
     "data": {
      "image/png": "[encoded data removed]",
      "text/plain": [
       "<matplotlib.figure.Figure at 0x2d48b63f668>"
      ]
     },
     "metadata": {},
     "output_type": "display_data"
    }
   ],
   "source": [
    "# create grid and contour values\n",
    "x = np.arange(0.0001, 0.003, 0.00001)\n",
    "y = np.arange(1, 20000, 20)\n",
    "X, Y = np.meshgrid(x, y)\n",
    "xrange = X.shape[1]\n",
    "yrange = X.shape[0]\n",
    "Z = np.zeros([yrange, xrange])\n",
    "for i in range(xrange):\n",
    "    for j in range(yrange):\n",
    "        Z[j][i] = posterior(death, risk, X[j][i], Y[j][i])\n",
    "# plot\n",
    "plt.figure()\n",
    "plt.ylim([0, 8000])\n",
    "CS = plt.contour(X, Y, Z)"
   ]
  },
  {
   "cell_type": "markdown",
   "metadata": {},
   "source": [
    "# Compute expression of lower bound"
   ]
  },
  {
   "cell_type": "code",
   "execution_count": 8,
   "metadata": {},
   "outputs": [],
   "source": [
    "# parameters to optimize\n",
    "mass = 1.\n",
    "mass_matrix = mass*np.identity(2)\n",
    "n_steps = 5\n",
    "z0_mean = np.array([0, 0])\n",
    "z0_cov = np.identity(2)"
   ]
  },
  {
   "cell_type": "code",
   "execution_count": 83,
   "metadata": {},
   "outputs": [
    {
     "name": "stdout",
     "output_type": "stream",
     "text": [
      "0.0\n",
      "2.60623841713e-301\n"
     ]
    },
    {
     "data": {
      "text/plain": [
       "numpy.float64"
      ]
     },
     "execution_count": 83,
     "metadata": {},
     "output_type": "execute_result"
    }
   ],
   "source": [
    "eta = 0.4345279       \n",
    "k = 1008.37605743\n",
    "y = 0\n",
    "n = 1083\n",
    "print(beta(k*eta+y, k*(1-eta)+n-y))\n",
    "print(beta(k*eta, k*(1-eta)))\n",
    "type(beta(k*eta, k*(1-eta)))"
   ]
  },
  {
   "cell_type": "code",
   "execution_count": 171,
   "metadata": {},
   "outputs": [
    {
     "data": {
      "text/plain": [
       "dtype('float64')"
      ]
     },
     "execution_count": 171,
     "metadata": {},
     "output_type": "execute_result"
    }
   ],
   "source": [
    "beta(2.0,3.0, dtype = 'float').dtype"
   ]
  },
  {
   "cell_type": "code",
   "execution_count": 168,
   "metadata": {},
   "outputs": [
    {
     "data": {
      "text/plain": [
       "dtype('float64')"
      ]
     },
     "execution_count": 168,
     "metadata": {},
     "output_type": "execute_result"
    }
   ],
   "source": [
    "gamma(1).dtype"
   ]
  },
  {
   "cell_type": "code",
   "execution_count": 134,
   "metadata": {},
   "outputs": [
    {
     "data": {
      "text/plain": [
       "tensor([ 4.])"
      ]
     },
     "execution_count": 134,
     "metadata": {},
     "output_type": "execute_result"
    }
   ],
   "source": [
    "x = torch.tensor([2.])\n",
    "x**2"
   ]
  },
  {
   "cell_type": "code",
   "execution_count": 136,
   "metadata": {},
   "outputs": [
    {
     "data": {
      "text/plain": [
       "'\\n# energy function for posterior\\ndef posterior_energy(y, n, theta):\\n    eta = theta[0]\\n    k = theta[1]\\n    post = posterior(y, n, eta, k)\\n    return -np.log(post)\\n'"
      ]
     },
     "execution_count": 136,
     "metadata": {},
     "output_type": "execute_result"
    }
   ],
   "source": [
    "def lbeta(a, b):\n",
    "    return torch.lgamma(a) + torch.lgamma(b) - torch.lgamma(a+b)\n",
    "\n",
    "def prior_beta_binomial(theta):\n",
    "    eta = theta[0]\n",
    "    k = theta[1]\n",
    "    t1 = 1/(eta*(1-eta))\n",
    "    t2 = 1/(1+k)**2\n",
    "    return t1*t2\n",
    "\n",
    "def likelihood_beta_binomial(theta, y, n):\n",
    "    eta = theta[0]\n",
    "    k = theta[1]\n",
    "    n_data = y.shape[0]\n",
    "    result = 0.\n",
    "    for i in range(n_data):\n",
    "        n_comb = torch.tensor([comb(n[i], y[i])], requires_grad=True)\n",
    "        #one_likelihood = beta(k*eta+y[i], k*(1-eta)+n[i]-y[i])/beta(k*eta, k*(1-eta))\n",
    "        y_tensor = torch.tensor([float(y[i])], requires_grad=True)\n",
    "        n_tensor = torch.tensor([float(n[i])], requires_grad=True)\n",
    "        #one_likelihood = lbeta(torch.tensor([k*eta+y_tensor]), torch.tensor([k*(1-eta)+n_tensor-y_tensor]))-lbeta(torch.tensor([k*eta]), torch.tensor([k*(1-eta)]))\n",
    "        one_likelihood = lbeta((k*eta+y_tensor), (k*(1-eta)+n_tensor-y_tensor))-lbeta((k*eta), (k*(1-eta)))\n",
    "        one_likelihood = torch.log(n_comb)+one_likelihood\n",
    "        #print(beta(k*eta+y[i], k*(1-eta)+n[i]-y[i]))\n",
    "        #print(beta(k*eta, k*(1-eta)))\n",
    "        #print(\"===================\")\n",
    "        print(one_likelihood)\n",
    "        result = result+one_likelihood\n",
    "    return result\n",
    "'''\n",
    "def joint_beta_binomial(y, n, eta, k):\n",
    "    prior = prior_beta_binomial(eta, k)\n",
    "    print(\"prior \"+str(prior))\n",
    "    likelihood = likelihood_beta_binomial(y, n, eta, k)\n",
    "    print(\"like \"+str(likelihood))\n",
    "    return prior*likelihood\n",
    "'''\n",
    "def joint_beta_binomial(theta, y, n):\n",
    "    #eta = theta[0]\n",
    "    #k = theta[1]\n",
    "    prior = prior_beta_binomial(theta)\n",
    "    print(\"prior \"+str(prior))\n",
    "    likelihood = likelihood_beta_binomial(theta, y, n)\n",
    "    print(\"like \"+str(likelihood))\n",
    "    return prior + likelihood\n",
    "\n",
    "'''\n",
    "# energy function for posterior\n",
    "def posterior_energy(y, n, theta):\n",
    "    eta = theta[0]\n",
    "    k = theta[1]\n",
    "    post = posterior(y, n, eta, k)\n",
    "    return -np.log(post)\n",
    "'''"
   ]
  },
  {
   "cell_type": "code",
   "execution_count": 89,
   "metadata": {},
   "outputs": [],
   "source": [
    "tt = torch.tensor([1.], requires_grad=True)\n",
    "tt1 = lbeta(tt, torch.tensor([2.]))"
   ]
  },
  {
   "cell_type": "code",
   "execution_count": 94,
   "metadata": {},
   "outputs": [
    {
     "data": {
      "text/plain": [
       "tensor([-7.5000])"
      ]
     },
     "execution_count": 94,
     "metadata": {},
     "output_type": "execute_result"
    }
   ],
   "source": [
    "tt1.backward(retain_graph=True)\n",
    "tt.grad"
   ]
  },
  {
   "cell_type": "code",
   "execution_count": 132,
   "metadata": {},
   "outputs": [
    {
     "name": "stdout",
     "output_type": "stream",
     "text": [
      "tensor(1.00000e-02 *\n",
      "       [-6.9824])\n",
      "tensor(1.00000e-02 *\n",
      "       [-5.9082])\n",
      "tensor([-3.6150])\n",
      "tensor(1.00000e-02 *\n",
      "       [-4.8340])\n",
      "tensor([-3.0415])\n",
      "tensor([-3.1051])\n",
      "tensor(1.00000e-02 *\n",
      "       [-4.1504])\n",
      "tensor([-3.9717])\n",
      "tensor([-3.3852])\n",
      "tensor([-6.2263])\n",
      "tensor(1.00000e-02 *\n",
      "       [-6.2988])\n",
      "tensor([-3.1855])\n",
      "tensor([-3.2997])\n",
      "tensor([-3.1550])\n",
      "tensor([inf.])\n",
      "tensor(1.00000e-02 *\n",
      "       [-6.0059])\n",
      "tensor(1.00000e-02 *\n",
      "       [-3.1250])\n",
      "tensor([-3.3867])\n",
      "tensor([-6.2082])\n",
      "tensor(1.00000e-02 *\n",
      "       [-3.1250])\n"
     ]
    },
    {
     "data": {
      "text/plain": [
       "tensor([ 1.1299e+05,  3.1786e-03])"
      ]
     },
     "execution_count": 132,
     "metadata": {},
     "output_type": "execute_result"
    }
   ],
   "source": [
    "t1 = torch.tensor([0.0005], requires_grad=True)\n",
    "t2 = torch.tensor([500.], requires_grad=True)\n",
    "\n",
    "theta = torch.tensor([0.0001, 900.], requires_grad=True)\n",
    "tt = likelihood_beta_binomial(theta, death, risk)\n",
    "tt.backward()\n",
    "theta.grad"
   ]
  },
  {
   "cell_type": "code",
   "execution_count": 146,
   "metadata": {},
   "outputs": [],
   "source": [
    "x=  torch.tensor([5., 6], requires_grad=True)\n",
    "y = x[0] + 1\n",
    "z = y+x[1]\n",
    "y.backward()\n",
    "x.grad"
   ]
  },
  {
   "cell_type": "code",
   "execution_count": 138,
   "metadata": {},
   "outputs": [
    {
     "name": "stdout",
     "output_type": "stream",
     "text": [
      "prior tensor(1.00000e-03 *\n",
      "       7.9721)\n",
      "tensor([-0.2883])\n",
      "tensor([-0.2493])\n",
      "tensor([-2.6451])\n",
      "tensor([-0.2097])\n",
      "tensor([-2.0393])\n",
      "tensor([-2.0619])\n",
      "tensor([-0.1794])\n",
      "tensor([-2.7459])\n",
      "tensor([-2.1975])\n",
      "tensor([-4.1958])\n",
      "tensor([-0.2610])\n",
      "tensor([-2.0945])\n",
      "tensor([-2.1505])\n",
      "tensor([-2.0825])\n",
      "tensor([inf.])\n",
      "tensor([-0.2532])\n",
      "tensor([-0.1458])\n",
      "tensor([-2.1990])\n",
      "tensor([-4.1830])\n",
      "tensor([-0.1418])\n",
      "like tensor([inf.])\n"
     ]
    },
    {
     "data": {
      "text/plain": [
       "tensor([ 1.6397e+04,  9.3280e-03])"
      ]
     },
     "execution_count": 138,
     "metadata": {},
     "output_type": "execute_result"
    }
   ],
   "source": [
    "#joint_t0 = torch.tensor([0.], requires_grad=True)\n",
    "z = torch.tensor([0.0005, 500], requires_grad=True)\n",
    "joint_t0 = joint_beta_binomial(z, death, risk)\n",
    "joint_t0.backward()\n",
    "z.grad"
   ]
  },
  {
   "cell_type": "code",
   "execution_count": 73,
   "metadata": {},
   "outputs": [],
   "source": [
    "joint_t0.backward()"
   ]
  },
  {
   "cell_type": "code",
   "execution_count": 79,
   "metadata": {},
   "outputs": [],
   "source": [
    "z.grad"
   ]
  },
  {
   "cell_type": "code",
   "execution_count": 159,
   "metadata": {},
   "outputs": [],
   "source": [
    "def lower_bound(y, n, mass_matrix, n_steps, z0_mean, z0_cov, v1_p_mean, v1_p_cov, v1_mean, v1_cov, joint_function):\n",
    "    # sample epsilson\n",
    "    eps_mean1 = np.array([0, 0])\n",
    "    eps_cov1 = np.identity(2)\n",
    "    eps1 = np.random.multivariate_normal(eps_mean1, eps_cov1)\n",
    "    \n",
    "    eps_mean2 = np.array([0, 0])\n",
    "    eps_cov2 = np.identity(2)\n",
    "    eps2 = np.random.multivariate_normal(eps_mean2, eps_cov2)\n",
    "    \n",
    "    eps_mean3 = np.array([0, 0])\n",
    "    eps_cov3 = np.identity(2)\n",
    "    eps3 = np.random.multivariate_normal(eps_mean3, eps_cov3)\n",
    "    \n",
    "    # Draw an initial random variable z0 \n",
    "    z0 = z0_mean + np.sqrt(z0_cov).dot(eps1)\n",
    "    #eta0 = (np.tanh(z0[0])+1)/200 #range(0, 0.01)\n",
    "    eta0 = z0[0]\n",
    "    k0 = z0[1]\n",
    "    \n",
    "    while((eta0<0) or (eta0>0.01) or (k0<=0)):\n",
    "        eps1 = np.random.multivariate_normal(eps_mean1, eps_cov1)\n",
    "        z0 = z0_mean + np.sqrt(z0_cov).dot(eps1)\n",
    "        eta0 = z0[0]\n",
    "        k0 = z0[1]\n",
    "    \n",
    "    print(eta0, k0)\n",
    "    # Init. lower bound\n",
    "    joint_t0 = joint_function(np.array([eta0, k0]), y, n)\n",
    "    L1 = np.log(joint_t0)\n",
    "    L2 = np.log(multivariate_normal.pdf(z0, z0_mean, z0_cov))\n",
    "    L = L1 - L2\n",
    "    \n",
    "    # define energy function\n",
    "    def posterior_energy(theta, cache):\n",
    "        eta = theta[0]\n",
    "        k = theta[1]\n",
    "        post = posterior(y, n, eta, k)\n",
    "        return -np.log(post)\n",
    "    \n",
    "    # MCMC steps\n",
    "    for i in range(1):\n",
    "        \n",
    "        grad_test = grad(joint_function)       # Obtain its gradient function\n",
    "        tt = grad_test(np.array([eta0, k0]),y,n) \n",
    "        print(str(tt))\n",
    "        # Draw vt'\n",
    "        vt_p = v1_p_mean + np.sqrt(v1_p_cov).dot(eps2)\n",
    "        \n",
    "        #init hmc sampler\n",
    "        sampler = IsotropicHmcSampler(posterior_energy, energy_grad=None, prng=None,\n",
    "                 mom_resample_coeff=0., dtype=np.float64)\n",
    "        pos_samples, mom_samples, ratio = sampler.get_samples(np.array([eta0, k0]), 0.1, n_steps, 1, mass_matrix)\n",
    "        z1 = pos_samples[0]\n",
    "        v1 = mom_samples[0]\n",
    "        #eta1 = z1[0]\n",
    "        #k1 = z1[1]\n",
    "        eta1 = z1[0]\n",
    "        k1 = z1[1]\n",
    "        \n",
    "        while((eta1<0) or (eta1>0.01) or (k1<=0)):\n",
    "            pos_samples, mom_samples, ratio = sampler.get_samples(np.array([eta0, k0]), 0.1, n_steps, 1, mass_matrix)\n",
    "            z1 = pos_samples[0]\n",
    "            v1 = mom_samples[0]\n",
    "            eta1 = z1[0]\n",
    "            k1 = z1[1]\n",
    "        \n",
    "        print(eta1, k1)\n",
    "        joint_t1 = joint_function(np.array([eta1, k1]), y, n)\n",
    "        rt = multivariate_normal.pdf(v1, v1_mean, v1_cov)\n",
    "        qt = multivariate_normal.pdf(vt_p, v1_p_mean, v1_p_cov)\n",
    "        \n",
    "        alpha = (joint_t1*rt)/(joint_t0*qt)\n",
    "        L = L + np.log(alpha)\n",
    "    \n",
    "    \n",
    "    \n",
    "    return pos_samples, L"
   ]
  },
  {
   "cell_type": "code",
   "execution_count": 124,
   "metadata": {},
   "outputs": [],
   "source": [
    "def test(x, y):\n",
    "    return 2*np.sum(x)"
   ]
  },
  {
   "cell_type": "code",
   "execution_count": 149,
   "metadata": {},
   "outputs": [
    {
     "data": {
      "text/plain": [
       "array([ 2.,  2.])"
      ]
     },
     "execution_count": 149,
     "metadata": {},
     "output_type": "execute_result"
    }
   ],
   "source": [
    "grad_test = grad(test)       # Obtain its gradient function\n",
    "grad_test(np.array([2.,2.]),np.array([0.,0.])) "
   ]
  },
  {
   "cell_type": "code",
   "execution_count": 130,
   "metadata": {},
   "outputs": [],
   "source": [
    "z0_mean = np.array([0.005,1000]) \n",
    "z0_cov = np.array([[1,0],[0,10]])\n",
    "v1_p_mean = np.array([0,0])\n",
    "v1_p_cov = np.identity(2)\n",
    "v1_mean = np.array([0,0])\n",
    "v1_cov = np.identity(2)"
   ]
  },
  {
   "cell_type": "code",
   "execution_count": 160,
   "metadata": {},
   "outputs": [
    {
     "name": "stdout",
     "output_type": "stream",
     "text": [
      "0.00587619911452 1006.14870627\n",
      "prior0.000168762451937\n",
      "like2.5711308424e-29\n",
      "priorAutograd ArrayBox with value 0.000168762451937\n"
     ]
    },
    {
     "ename": "TypeError",
     "evalue": "ufunc 'beta' not supported for the input types, and the inputs could not be safely coerced to any supported types according to the casting rule ''safe''",
     "output_type": "error",
     "traceback": [
      "\u001b[1;31m---------------------------------------------------------------------------\u001b[0m",
      "\u001b[1;31mTypeError\u001b[0m                                 Traceback (most recent call last)",
      "\u001b[1;32m<ipython-input-160-1f03e8578793>\u001b[0m in \u001b[0;36m<module>\u001b[1;34m()\u001b[0m\n\u001b[0;32m      1\u001b[0m \u001b[0msample_list\u001b[0m \u001b[1;33m=\u001b[0m \u001b[1;33m[\u001b[0m\u001b[1;33m]\u001b[0m\u001b[1;33m\u001b[0m\u001b[0m\n\u001b[0;32m      2\u001b[0m \u001b[1;32mfor\u001b[0m \u001b[0mi\u001b[0m \u001b[1;32min\u001b[0m \u001b[0mrange\u001b[0m\u001b[1;33m(\u001b[0m\u001b[1;36m500\u001b[0m\u001b[1;33m)\u001b[0m\u001b[1;33m:\u001b[0m\u001b[1;33m\u001b[0m\u001b[0m\n\u001b[1;32m----> 3\u001b[1;33m     \u001b[0mpos_samples\u001b[0m\u001b[1;33m,\u001b[0m \u001b[0mL\u001b[0m \u001b[1;33m=\u001b[0m \u001b[0mlower_bound\u001b[0m\u001b[1;33m(\u001b[0m\u001b[0mdeath\u001b[0m\u001b[1;33m,\u001b[0m \u001b[0mrisk\u001b[0m\u001b[1;33m,\u001b[0m \u001b[0mmass_matrix\u001b[0m\u001b[1;33m,\u001b[0m \u001b[1;36m5\u001b[0m\u001b[1;33m,\u001b[0m \u001b[0mz0_mean\u001b[0m\u001b[1;33m,\u001b[0m \u001b[0mz0_cov\u001b[0m\u001b[1;33m,\u001b[0m \u001b[0mv1_p_mean\u001b[0m\u001b[1;33m,\u001b[0m \u001b[0mv1_p_cov\u001b[0m\u001b[1;33m,\u001b[0m \u001b[0mv1_mean\u001b[0m\u001b[1;33m,\u001b[0m \u001b[0mv1_cov\u001b[0m\u001b[1;33m,\u001b[0m \u001b[0mjoint_beta_binomial\u001b[0m\u001b[1;33m)\u001b[0m\u001b[1;33m\u001b[0m\u001b[0m\n\u001b[0m\u001b[0;32m      4\u001b[0m     \u001b[0msample_list\u001b[0m\u001b[1;33m.\u001b[0m\u001b[0mappend\u001b[0m\u001b[1;33m(\u001b[0m\u001b[0mpos_samples\u001b[0m\u001b[1;33m)\u001b[0m\u001b[1;33m\u001b[0m\u001b[0m\n",
      "\u001b[1;32m<ipython-input-159-169a79c23d24>\u001b[0m in \u001b[0;36mlower_bound\u001b[1;34m(y, n, mass_matrix, n_steps, z0_mean, z0_cov, v1_p_mean, v1_p_cov, v1_mean, v1_cov, joint_function)\u001b[0m\n\u001b[0;32m     43\u001b[0m \u001b[1;33m\u001b[0m\u001b[0m\n\u001b[0;32m     44\u001b[0m         \u001b[0mgrad_test\u001b[0m \u001b[1;33m=\u001b[0m \u001b[0mgrad\u001b[0m\u001b[1;33m(\u001b[0m\u001b[0mjoint_function\u001b[0m\u001b[1;33m)\u001b[0m       \u001b[1;31m# Obtain its gradient function\u001b[0m\u001b[1;33m\u001b[0m\u001b[0m\n\u001b[1;32m---> 45\u001b[1;33m         \u001b[0mtt\u001b[0m \u001b[1;33m=\u001b[0m \u001b[0mgrad_test\u001b[0m\u001b[1;33m(\u001b[0m\u001b[0mnp\u001b[0m\u001b[1;33m.\u001b[0m\u001b[0marray\u001b[0m\u001b[1;33m(\u001b[0m\u001b[1;33m[\u001b[0m\u001b[0meta0\u001b[0m\u001b[1;33m,\u001b[0m \u001b[0mk0\u001b[0m\u001b[1;33m]\u001b[0m\u001b[1;33m)\u001b[0m\u001b[1;33m,\u001b[0m\u001b[0my\u001b[0m\u001b[1;33m,\u001b[0m\u001b[0mn\u001b[0m\u001b[1;33m)\u001b[0m\u001b[1;33m\u001b[0m\u001b[0m\n\u001b[0m\u001b[0;32m     46\u001b[0m         \u001b[0mprint\u001b[0m\u001b[1;33m(\u001b[0m\u001b[0mstr\u001b[0m\u001b[1;33m(\u001b[0m\u001b[0mtt\u001b[0m\u001b[1;33m)\u001b[0m\u001b[1;33m)\u001b[0m\u001b[1;33m\u001b[0m\u001b[0m\n\u001b[0;32m     47\u001b[0m         \u001b[1;31m# Draw vt'\u001b[0m\u001b[1;33m\u001b[0m\u001b[1;33m\u001b[0m\u001b[0m\n",
      "\u001b[1;32mD:\\Anaconda3\\lib\\site-packages\\autograd\\wrap_util.py\u001b[0m in \u001b[0;36mnary_f\u001b[1;34m(*args, **kwargs)\u001b[0m\n\u001b[0;32m     18\u001b[0m             \u001b[1;32melse\u001b[0m\u001b[1;33m:\u001b[0m\u001b[1;33m\u001b[0m\u001b[0m\n\u001b[0;32m     19\u001b[0m                 \u001b[0mx\u001b[0m \u001b[1;33m=\u001b[0m \u001b[0mtuple\u001b[0m\u001b[1;33m(\u001b[0m\u001b[0margs\u001b[0m\u001b[1;33m[\u001b[0m\u001b[0mi\u001b[0m\u001b[1;33m]\u001b[0m \u001b[1;32mfor\u001b[0m \u001b[0mi\u001b[0m \u001b[1;32min\u001b[0m \u001b[0margnum\u001b[0m\u001b[1;33m)\u001b[0m\u001b[1;33m\u001b[0m\u001b[0m\n\u001b[1;32m---> 20\u001b[1;33m             \u001b[1;32mreturn\u001b[0m \u001b[0munary_operator\u001b[0m\u001b[1;33m(\u001b[0m\u001b[0munary_f\u001b[0m\u001b[1;33m,\u001b[0m \u001b[0mx\u001b[0m\u001b[1;33m,\u001b[0m \u001b[1;33m*\u001b[0m\u001b[0mnary_op_args\u001b[0m\u001b[1;33m,\u001b[0m \u001b[1;33m**\u001b[0m\u001b[0mnary_op_kwargs\u001b[0m\u001b[1;33m)\u001b[0m\u001b[1;33m\u001b[0m\u001b[0m\n\u001b[0m\u001b[0;32m     21\u001b[0m         \u001b[1;32mreturn\u001b[0m \u001b[0mnary_f\u001b[0m\u001b[1;33m\u001b[0m\u001b[0m\n\u001b[0;32m     22\u001b[0m     \u001b[1;32mreturn\u001b[0m \u001b[0mnary_operator\u001b[0m\u001b[1;33m\u001b[0m\u001b[0m\n",
      "\u001b[1;32mD:\\Anaconda3\\lib\\site-packages\\autograd\\differential_operators.py\u001b[0m in \u001b[0;36mgrad\u001b[1;34m(fun, x)\u001b[0m\n\u001b[0;32m     22\u001b[0m     \u001b[0marguments\u001b[0m \u001b[1;32mas\u001b[0m\u001b[0;31m \u001b[0m\u001b[0;31m`\u001b[0m\u001b[0mfun\u001b[0m\u001b[0;31m`\u001b[0m\u001b[1;33m,\u001b[0m \u001b[0mbut\u001b[0m \u001b[0mreturns\u001b[0m \u001b[0mthe\u001b[0m \u001b[0mgradient\u001b[0m \u001b[0minstead\u001b[0m\u001b[1;33m.\u001b[0m \u001b[0mThe\u001b[0m \u001b[0mfunction\u001b[0m\u001b[0;31m \u001b[0m\u001b[0;31m`\u001b[0m\u001b[0mfun\u001b[0m\u001b[0;31m`\u001b[0m\u001b[1;33m\u001b[0m\u001b[0m\n\u001b[0;32m     23\u001b[0m     should be scalar-valued. The gradient has the same type as the argument.\"\"\"\n\u001b[1;32m---> 24\u001b[1;33m     \u001b[0mvjp\u001b[0m\u001b[1;33m,\u001b[0m \u001b[0mans\u001b[0m \u001b[1;33m=\u001b[0m \u001b[0m_make_vjp\u001b[0m\u001b[1;33m(\u001b[0m\u001b[0mfun\u001b[0m\u001b[1;33m,\u001b[0m \u001b[0mx\u001b[0m\u001b[1;33m)\u001b[0m\u001b[1;33m\u001b[0m\u001b[0m\n\u001b[0m\u001b[0;32m     25\u001b[0m     \u001b[1;32mif\u001b[0m \u001b[1;32mnot\u001b[0m \u001b[0mvspace\u001b[0m\u001b[1;33m(\u001b[0m\u001b[0mans\u001b[0m\u001b[1;33m)\u001b[0m\u001b[1;33m.\u001b[0m\u001b[0msize\u001b[0m \u001b[1;33m==\u001b[0m \u001b[1;36m1\u001b[0m\u001b[1;33m:\u001b[0m\u001b[1;33m\u001b[0m\u001b[0m\n\u001b[0;32m     26\u001b[0m         raise TypeError(\"Grad only applies to real scalar-output functions. \"\n",
      "\u001b[1;32mD:\\Anaconda3\\lib\\site-packages\\autograd\\core.py\u001b[0m in \u001b[0;36mmake_vjp\u001b[1;34m(fun, x)\u001b[0m\n\u001b[0;32m      8\u001b[0m \u001b[1;32mdef\u001b[0m \u001b[0mmake_vjp\u001b[0m\u001b[1;33m(\u001b[0m\u001b[0mfun\u001b[0m\u001b[1;33m,\u001b[0m \u001b[0mx\u001b[0m\u001b[1;33m)\u001b[0m\u001b[1;33m:\u001b[0m\u001b[1;33m\u001b[0m\u001b[0m\n\u001b[0;32m      9\u001b[0m     \u001b[0mstart_node\u001b[0m \u001b[1;33m=\u001b[0m \u001b[0mVJPNode\u001b[0m\u001b[1;33m.\u001b[0m\u001b[0mnew_root\u001b[0m\u001b[1;33m(\u001b[0m\u001b[0mx\u001b[0m\u001b[1;33m)\u001b[0m\u001b[1;33m\u001b[0m\u001b[0m\n\u001b[1;32m---> 10\u001b[1;33m     \u001b[0mend_value\u001b[0m\u001b[1;33m,\u001b[0m \u001b[0mend_node\u001b[0m \u001b[1;33m=\u001b[0m  \u001b[0mtrace\u001b[0m\u001b[1;33m(\u001b[0m\u001b[0mstart_node\u001b[0m\u001b[1;33m,\u001b[0m \u001b[0mfun\u001b[0m\u001b[1;33m,\u001b[0m \u001b[0mx\u001b[0m\u001b[1;33m)\u001b[0m\u001b[1;33m\u001b[0m\u001b[0m\n\u001b[0m\u001b[0;32m     11\u001b[0m     \u001b[1;32mif\u001b[0m \u001b[0mend_node\u001b[0m \u001b[1;32mis\u001b[0m \u001b[1;32mNone\u001b[0m\u001b[1;33m:\u001b[0m\u001b[1;33m\u001b[0m\u001b[0m\n\u001b[0;32m     12\u001b[0m         \u001b[1;32mdef\u001b[0m \u001b[0mvjp\u001b[0m\u001b[1;33m(\u001b[0m\u001b[0mg\u001b[0m\u001b[1;33m)\u001b[0m\u001b[1;33m:\u001b[0m \u001b[1;32mreturn\u001b[0m \u001b[0mvspace\u001b[0m\u001b[1;33m(\u001b[0m\u001b[0mx\u001b[0m\u001b[1;33m)\u001b[0m\u001b[1;33m.\u001b[0m\u001b[0mzeros\u001b[0m\u001b[1;33m(\u001b[0m\u001b[1;33m)\u001b[0m\u001b[1;33m\u001b[0m\u001b[0m\n",
      "\u001b[1;32mD:\\Anaconda3\\lib\\site-packages\\autograd\\tracer.py\u001b[0m in \u001b[0;36mtrace\u001b[1;34m(start_node, fun, x)\u001b[0m\n\u001b[0;32m      8\u001b[0m     \u001b[1;32mwith\u001b[0m \u001b[0mtrace_stack\u001b[0m\u001b[1;33m.\u001b[0m\u001b[0mnew_trace\u001b[0m\u001b[1;33m(\u001b[0m\u001b[1;33m)\u001b[0m \u001b[1;32mas\u001b[0m \u001b[0mt\u001b[0m\u001b[1;33m:\u001b[0m\u001b[1;33m\u001b[0m\u001b[0m\n\u001b[0;32m      9\u001b[0m         \u001b[0mstart_box\u001b[0m \u001b[1;33m=\u001b[0m \u001b[0mnew_box\u001b[0m\u001b[1;33m(\u001b[0m\u001b[0mx\u001b[0m\u001b[1;33m,\u001b[0m \u001b[0mt\u001b[0m\u001b[1;33m,\u001b[0m \u001b[0mstart_node\u001b[0m\u001b[1;33m)\u001b[0m\u001b[1;33m\u001b[0m\u001b[0m\n\u001b[1;32m---> 10\u001b[1;33m         \u001b[0mend_box\u001b[0m \u001b[1;33m=\u001b[0m \u001b[0mfun\u001b[0m\u001b[1;33m(\u001b[0m\u001b[0mstart_box\u001b[0m\u001b[1;33m)\u001b[0m\u001b[1;33m\u001b[0m\u001b[0m\n\u001b[0m\u001b[0;32m     11\u001b[0m         \u001b[1;32mif\u001b[0m \u001b[0misbox\u001b[0m\u001b[1;33m(\u001b[0m\u001b[0mend_box\u001b[0m\u001b[1;33m)\u001b[0m \u001b[1;32mand\u001b[0m \u001b[0mend_box\u001b[0m\u001b[1;33m.\u001b[0m\u001b[0m_trace\u001b[0m \u001b[1;33m==\u001b[0m \u001b[0mstart_box\u001b[0m\u001b[1;33m.\u001b[0m\u001b[0m_trace\u001b[0m\u001b[1;33m:\u001b[0m\u001b[1;33m\u001b[0m\u001b[0m\n\u001b[0;32m     12\u001b[0m             \u001b[1;32mreturn\u001b[0m \u001b[0mend_box\u001b[0m\u001b[1;33m.\u001b[0m\u001b[0m_value\u001b[0m\u001b[1;33m,\u001b[0m \u001b[0mend_box\u001b[0m\u001b[1;33m.\u001b[0m\u001b[0m_node\u001b[0m\u001b[1;33m\u001b[0m\u001b[0m\n",
      "\u001b[1;32mD:\\Anaconda3\\lib\\site-packages\\autograd\\wrap_util.py\u001b[0m in \u001b[0;36munary_f\u001b[1;34m(x)\u001b[0m\n\u001b[0;32m     13\u001b[0m                 \u001b[1;32melse\u001b[0m\u001b[1;33m:\u001b[0m\u001b[1;33m\u001b[0m\u001b[0m\n\u001b[0;32m     14\u001b[0m                     \u001b[0msubargs\u001b[0m \u001b[1;33m=\u001b[0m \u001b[0msubvals\u001b[0m\u001b[1;33m(\u001b[0m\u001b[0margs\u001b[0m\u001b[1;33m,\u001b[0m \u001b[0mzip\u001b[0m\u001b[1;33m(\u001b[0m\u001b[0margnum\u001b[0m\u001b[1;33m,\u001b[0m \u001b[0mx\u001b[0m\u001b[1;33m)\u001b[0m\u001b[1;33m)\u001b[0m\u001b[1;33m\u001b[0m\u001b[0m\n\u001b[1;32m---> 15\u001b[1;33m                 \u001b[1;32mreturn\u001b[0m \u001b[0mfun\u001b[0m\u001b[1;33m(\u001b[0m\u001b[1;33m*\u001b[0m\u001b[0msubargs\u001b[0m\u001b[1;33m,\u001b[0m \u001b[1;33m**\u001b[0m\u001b[0mkwargs\u001b[0m\u001b[1;33m)\u001b[0m\u001b[1;33m\u001b[0m\u001b[0m\n\u001b[0m\u001b[0;32m     16\u001b[0m             \u001b[1;32mif\u001b[0m \u001b[0misinstance\u001b[0m\u001b[1;33m(\u001b[0m\u001b[0margnum\u001b[0m\u001b[1;33m,\u001b[0m \u001b[0mint\u001b[0m\u001b[1;33m)\u001b[0m\u001b[1;33m:\u001b[0m\u001b[1;33m\u001b[0m\u001b[0m\n\u001b[0;32m     17\u001b[0m                 \u001b[0mx\u001b[0m \u001b[1;33m=\u001b[0m \u001b[0margs\u001b[0m\u001b[1;33m[\u001b[0m\u001b[0margnum\u001b[0m\u001b[1;33m]\u001b[0m\u001b[1;33m\u001b[0m\u001b[0m\n",
      "\u001b[1;32m<ipython-input-158-8cf2aea14c45>\u001b[0m in \u001b[0;36mjoint_beta_binomial\u001b[1;34m(theta, y, n)\u001b[0m\n\u001b[0;32m     29\u001b[0m     \u001b[0mprior\u001b[0m \u001b[1;33m=\u001b[0m \u001b[0mprior_beta_binomial\u001b[0m\u001b[1;33m(\u001b[0m\u001b[0meta\u001b[0m\u001b[1;33m,\u001b[0m \u001b[0mk\u001b[0m\u001b[1;33m)\u001b[0m\u001b[1;33m\u001b[0m\u001b[0m\n\u001b[0;32m     30\u001b[0m     \u001b[0mprint\u001b[0m\u001b[1;33m(\u001b[0m\u001b[1;34m\"prior\"\u001b[0m\u001b[1;33m+\u001b[0m\u001b[0mstr\u001b[0m\u001b[1;33m(\u001b[0m\u001b[0mprior\u001b[0m\u001b[1;33m)\u001b[0m\u001b[1;33m)\u001b[0m\u001b[1;33m\u001b[0m\u001b[0m\n\u001b[1;32m---> 31\u001b[1;33m     \u001b[0mlikelihood\u001b[0m \u001b[1;33m=\u001b[0m \u001b[0mlikelihood_beta_binomial\u001b[0m\u001b[1;33m(\u001b[0m\u001b[0my\u001b[0m\u001b[1;33m,\u001b[0m \u001b[0mn\u001b[0m\u001b[1;33m,\u001b[0m \u001b[0meta\u001b[0m\u001b[1;33m,\u001b[0m \u001b[0mk\u001b[0m\u001b[1;33m)\u001b[0m\u001b[1;33m\u001b[0m\u001b[0m\n\u001b[0m\u001b[0;32m     32\u001b[0m     \u001b[0mprint\u001b[0m\u001b[1;33m(\u001b[0m\u001b[1;34m\"like\"\u001b[0m\u001b[1;33m+\u001b[0m\u001b[0mstr\u001b[0m\u001b[1;33m(\u001b[0m\u001b[0mlikelihood\u001b[0m\u001b[1;33m)\u001b[0m\u001b[1;33m)\u001b[0m\u001b[1;33m\u001b[0m\u001b[0m\n\u001b[0;32m     33\u001b[0m     \u001b[1;32mreturn\u001b[0m \u001b[0mprior\u001b[0m\u001b[1;33m*\u001b[0m\u001b[0mlikelihood\u001b[0m\u001b[1;33m\u001b[0m\u001b[0m\n",
      "\u001b[1;32m<ipython-input-158-8cf2aea14c45>\u001b[0m in \u001b[0;36mlikelihood_beta_binomial\u001b[1;34m(y, n, eta, k)\u001b[0m\n\u001b[0;32m      9\u001b[0m     \u001b[1;32mfor\u001b[0m \u001b[0mi\u001b[0m \u001b[1;32min\u001b[0m \u001b[0mrange\u001b[0m\u001b[1;33m(\u001b[0m\u001b[0mn_data\u001b[0m\u001b[1;33m)\u001b[0m\u001b[1;33m:\u001b[0m\u001b[1;33m\u001b[0m\u001b[0m\n\u001b[0;32m     10\u001b[0m         \u001b[0mn_comb\u001b[0m \u001b[1;33m=\u001b[0m \u001b[0mcomb\u001b[0m\u001b[1;33m(\u001b[0m\u001b[0mn\u001b[0m\u001b[1;33m[\u001b[0m\u001b[0mi\u001b[0m\u001b[1;33m]\u001b[0m\u001b[1;33m,\u001b[0m \u001b[0my\u001b[0m\u001b[1;33m[\u001b[0m\u001b[0mi\u001b[0m\u001b[1;33m]\u001b[0m\u001b[1;33m)\u001b[0m\u001b[1;33m\u001b[0m\u001b[0m\n\u001b[1;32m---> 11\u001b[1;33m         \u001b[0mone_likelihood\u001b[0m \u001b[1;33m=\u001b[0m \u001b[0mbeta\u001b[0m\u001b[1;33m(\u001b[0m\u001b[0mk\u001b[0m\u001b[1;33m*\u001b[0m\u001b[0meta\u001b[0m\u001b[1;33m+\u001b[0m\u001b[0my\u001b[0m\u001b[1;33m[\u001b[0m\u001b[0mi\u001b[0m\u001b[1;33m]\u001b[0m\u001b[1;33m,\u001b[0m \u001b[0mk\u001b[0m\u001b[1;33m*\u001b[0m\u001b[1;33m(\u001b[0m\u001b[1;36m1\u001b[0m\u001b[1;33m-\u001b[0m\u001b[0meta\u001b[0m\u001b[1;33m)\u001b[0m\u001b[1;33m+\u001b[0m\u001b[0mn\u001b[0m\u001b[1;33m[\u001b[0m\u001b[0mi\u001b[0m\u001b[1;33m]\u001b[0m\u001b[1;33m-\u001b[0m\u001b[0my\u001b[0m\u001b[1;33m[\u001b[0m\u001b[0mi\u001b[0m\u001b[1;33m]\u001b[0m\u001b[1;33m)\u001b[0m\u001b[1;33m/\u001b[0m\u001b[0mbeta\u001b[0m\u001b[1;33m(\u001b[0m\u001b[0mk\u001b[0m\u001b[1;33m*\u001b[0m\u001b[0meta\u001b[0m\u001b[1;33m,\u001b[0m \u001b[0mk\u001b[0m\u001b[1;33m*\u001b[0m\u001b[1;33m(\u001b[0m\u001b[1;36m1\u001b[0m\u001b[1;33m-\u001b[0m\u001b[0meta\u001b[0m\u001b[1;33m)\u001b[0m\u001b[1;33m)\u001b[0m\u001b[1;33m\u001b[0m\u001b[0m\n\u001b[0m\u001b[0;32m     12\u001b[0m         \u001b[0mone_likelihood\u001b[0m \u001b[1;33m=\u001b[0m \u001b[0mn_comb\u001b[0m\u001b[1;33m*\u001b[0m\u001b[0mone_likelihood\u001b[0m\u001b[1;33m\u001b[0m\u001b[0m\n\u001b[0;32m     13\u001b[0m         \u001b[1;31m#print(beta(k*eta+y[i], k*(1-eta)+n[i]-y[i]))\u001b[0m\u001b[1;33m\u001b[0m\u001b[1;33m\u001b[0m\u001b[0m\n",
      "\u001b[1;31mTypeError\u001b[0m: ufunc 'beta' not supported for the input types, and the inputs could not be safely coerced to any supported types according to the casting rule ''safe''"
     ]
    }
   ],
   "source": [
    "sample_list = []\n",
    "for i in range(500):\n",
    "    pos_samples, L = lower_bound(death, risk, mass_matrix, 5, z0_mean, z0_cov, v1_p_mean, v1_p_cov, v1_mean, v1_cov, joint_beta_binomial)\n",
    "    sample_list.append(pos_samples)"
   ]
  },
  {
   "cell_type": "code",
   "execution_count": 104,
   "metadata": {},
   "outputs": [
    {
     "data": {
      "text/plain": [
       "-61.755600686430846"
      ]
     },
     "execution_count": 104,
     "metadata": {},
     "output_type": "execute_result"
    }
   ],
   "source": [
    "L"
   ]
  },
  {
   "cell_type": "code",
   "execution_count": 73,
   "metadata": {},
   "outputs": [],
   "source": [
    "list1 = []\n",
    "list2 = []\n",
    "for i in range(len(sample_list)):\n",
    "    list1.append(sample_list[i][0][0])\n",
    "    list2.append(sample_list[i][0][1])\n",
    "list1 = np.array(list1)\n",
    "list2 = np.array(list2)"
   ]
  },
  {
   "cell_type": "code",
   "execution_count": 74,
   "metadata": {},
   "outputs": [
    {
     "data": {
      "image/png": "[encoded data removed]",
      "text/plain": [
       "<matplotlib.figure.Figure at 0x23ab03dcf98>"
      ]
     },
     "metadata": {},
     "output_type": "display_data"
    }
   ],
   "source": [
    "h = plt.hist2d(list1, list2, bins = [300, 300])"
   ]
  },
  {
   "cell_type": "markdown",
   "metadata": {},
   "source": [
    "# Optimize"
   ]
  },
  {
   "cell_type": "code",
   "execution_count": null,
   "metadata": {},
   "outputs": [],
   "source": []
  },
  {
   "cell_type": "markdown",
   "metadata": {},
   "source": [
    "# Experiment on sampling from posterior"
   ]
  },
  {
   "cell_type": "code",
   "execution_count": 207,
   "metadata": {},
   "outputs": [],
   "source": [
    "eta_list = [0.0001, 0.0005, 0.001]\n",
    "k_list = [1, 100, 500]\n",
    "\n",
    "for i in range(3):\n",
    "    eta = eta_list[i]\n",
    "    k = k_list[i]\n",
    "    \n",
    "    def energy(x):\n",
    "        \n",
    "sampler = IsotropicHmcSampler(unit_gaussian_energy, energy_grad=None, prng=None,\n",
    "                 mom_resample_coeff=1., dtype=np.float64)"
   ]
  },
  {
   "cell_type": "code",
   "execution_count": 2,
   "metadata": {},
   "outputs": [],
   "source": [
    "def gaussian(x, mu, sig):\n",
    "    #return np.exp(-np.power(x - mu, 2.) / (2 * np.power(sig, 2.)))\n",
    "    return 1./(np.sqrt(2.*np.pi)*sig)*np.exp(-np.power((x - mu), 2.)/(2 * np.power(sig, 2.))) "
   ]
  },
  {
   "cell_type": "code",
   "execution_count": 3,
   "metadata": {},
   "outputs": [],
   "source": [
    "def gaussian_energy(x, mu, sig):\n",
    "    gaus = gaussian(x, mu, sig)\n",
    "    return -np.log(gaus)\n"
   ]
  },
  {
   "cell_type": "code",
   "execution_count": 4,
   "metadata": {},
   "outputs": [],
   "source": [
    "def unit_gaussian_energy(x, cache):\n",
    "    gaus = gaussian(x, 3, 0.9)\n",
    "    return -np.log(gaus)"
   ]
  },
  {
   "cell_type": "code",
   "execution_count": 5,
   "metadata": {},
   "outputs": [
    {
     "data": {
      "text/plain": [
       "0.91893853320467267"
      ]
     },
     "execution_count": 5,
     "metadata": {},
     "output_type": "execute_result"
    }
   ],
   "source": [
    "gaussian_energy(0,0,1)"
   ]
  },
  {
   "cell_type": "code",
   "execution_count": 6,
   "metadata": {},
   "outputs": [],
   "source": [
    "sampler = IsotropicHmcSampler(unit_gaussian_energy, energy_grad=None, prng=None,\n",
    "                 mom_resample_coeff=1., dtype=np.float64)"
   ]
  },
  {
   "cell_type": "code",
   "execution_count": 7,
   "metadata": {},
   "outputs": [
    {
     "data": {
      "text/plain": [
       "[<matplotlib.lines.Line2D at 0x2263a0e6668>]"
      ]
     },
     "execution_count": 7,
     "metadata": {},
     "output_type": "execute_result"
    },
    {
     "data": {
      "image/png": "[encoded data removed]",
      "text/plain": [
       "<matplotlib.figure.Figure at 0x22639fd4e10>"
      ]
     },
     "metadata": {},
     "output_type": "display_data"
    }
   ],
   "source": [
    "pos_samples, mom_samples, ratio = sampler.get_samples(np.array([2]), 0.1, 10, 1000, np.array([1]))\n",
    "pos = pos_samples.ravel()\n",
    "plt.plot(pos)"
   ]
  },
  {
   "cell_type": "code",
   "execution_count": 80,
   "metadata": {},
   "outputs": [
    {
     "data": {
      "text/plain": [
       "(array([   2.,    5.,   11.,   15.,   22.,   36.,   36.,   69.,   78.,\n",
       "         101.,  107.,  104.,   90.,   85.,   63.,   56.,   49.,   23.,\n",
       "          18.,   12.,    8.,    4.,    3.,    3.]),\n",
       " array([ 0.37929921,  0.61134803,  0.84339684,  1.07544565,  1.30749447,\n",
       "         1.53954328,  1.7715921 ,  2.00364091,  2.23568972,  2.46773854,\n",
       "         2.69978735,  2.93183616,  3.16388498,  3.39593379,  3.6279826 ,\n",
       "         3.86003142,  4.09208023,  4.32412905,  4.55617786,  4.78822667,\n",
       "         5.02027549,  5.2523243 ,  5.48437311,  5.71642193,  5.94847074]),\n",
       " <a list of 24 Patch objects>)"
      ]
     },
     "execution_count": 80,
     "metadata": {},
     "output_type": "execute_result"
    },
    {
     "data": {
      "image/png": "[encoded data removed]",
      "text/plain": [
       "<matplotlib.figure.Figure at 0x12e8c1144a8>"
      ]
     },
     "metadata": {},
     "output_type": "display_data"
    }
   ],
   "source": [
    "plt.hist(pos, bins='auto')"
   ]
  },
  {
   "cell_type": "code",
   "execution_count": 10,
   "metadata": {},
   "outputs": [
    {
     "data": {
      "text/plain": [
       "0.61135382891107215"
      ]
     },
     "execution_count": 10,
     "metadata": {},
     "output_type": "execute_result"
    }
   ],
   "source": [
    "mom_samples[0][0]"
   ]
  },
  {
   "cell_type": "code",
   "execution_count": 77,
   "metadata": {},
   "outputs": [
    {
     "data": {
      "text/plain": [
       "1"
      ]
     },
     "execution_count": 77,
     "metadata": {},
     "output_type": "execute_result"
    }
   ],
   "source": [
    "x = np.array([1])\n",
    "x.shape[0]"
   ]
  },
  {
   "cell_type": "code",
   "execution_count": null,
   "metadata": {},
   "outputs": [],
   "source": []
  }
 ],
 "metadata": {
  "kernelspec": {
   "display_name": "Python 3",
   "language": "python",
   "name": "python3"
  },
  "language_info": {
   "codemirror_mode": {
    "name": "ipython",
    "version": 3
   },
   "file_extension": ".py",
   "mimetype": "text/x-python",
   "name": "python",
   "nbconvert_exporter": "python",
   "pygments_lexer": "ipython3",
   "version": "3.5.4"
  }
 },
 "nbformat": 4,
 "nbformat_minor": 2
}
