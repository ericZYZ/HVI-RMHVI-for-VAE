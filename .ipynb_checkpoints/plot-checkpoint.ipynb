{
 "cells": [
  {
   "cell_type": "code",
   "execution_count": 53,
   "metadata": {},
   "outputs": [],
   "source": [
    "import matplotlib.pyplot as plt\n",
    "import numpy as np"
   ]
  },
  {
   "cell_type": "code",
   "execution_count": 36,
   "metadata": {},
   "outputs": [],
   "source": [
    "results_path = 'F:\\\\Cambridge\\\\Project\\\\MHMC-for-VAE\\\\VAE\\\\L_results\\\\result_'"
   ]
  },
  {
   "cell_type": "code",
   "execution_count": 57,
   "metadata": {},
   "outputs": [],
   "source": [
    "epoch = []\n",
    "for i in range(9):\n",
    "    file = open(results_path+str(i)+'.txt','r')\n",
    "    #file = open('F:\\\\Cambridge\\\\Project\\\\MHMC-for-VAE\\\\VAE\\\\L_results\\\\result_1.txt', 'r') \n",
    "    #print (file.read()) \n",
    "    line = file.read().split()\n",
    "    line = [float(e) for e in line]\n",
    "    epoch.append(line)"
   ]
  },
  {
   "cell_type": "code",
   "execution_count": 60,
   "metadata": {},
   "outputs": [],
   "source": [
    "mean_list = []\n",
    "for i in range(9):\n",
    "    mean_list.append(np.mean(epoch[i]))"
   ]
  },
  {
   "cell_type": "code",
   "execution_count": 69,
   "metadata": {},
   "outputs": [
    {
     "data": {
      "text/plain": [
       "[-241.36767164933912,\n",
       " -190.29905466433527,\n",
       " -158.18109495248368,\n",
       " -133.24610323387424,\n",
       " -123.10957855354748,\n",
       " -117.07294571475941,\n",
       " -112.04452661054729,\n",
       " -108.1871076799405,\n",
       " -105.04618612586309]"
      ]
     },
     "execution_count": 69,
     "metadata": {},
     "output_type": "execute_result"
    }
   ],
   "source": [
    "mean_list = [(0-e) for e in mean_list]\n",
    "mean_list"
   ]
  },
  {
   "cell_type": "code",
   "execution_count": 67,
   "metadata": {},
   "outputs": [
    {
     "data": {
      "text/plain": [
       "Text(0.5,1,'Lower bound of logp(x)')"
      ]
     },
     "execution_count": 67,
     "metadata": {},
     "output_type": "execute_result"
    },
    {
     "data": {
      "image/png": "[encoded data removed]",
      "text/plain": [
       "<matplotlib.figure.Figure at 0x1d400ab7ef0>"
      ]
     },
     "metadata": {},
     "output_type": "display_data"
    }
   ],
   "source": [
    "x = [1,2,3,4,5,6,7,8,9]\n",
    "plt.plot(x,mean_list)\n",
    "plt.title('Lower bound of logp(x)')"
   ]
  },
  {
   "cell_type": "code",
   "execution_count": null,
   "metadata": {},
   "outputs": [],
   "source": []
  }
 ],
 "metadata": {
  "kernelspec": {
   "display_name": "Python 3",
   "language": "python",
   "name": "python3"
  },
  "language_info": {
   "codemirror_mode": {
    "name": "ipython",
    "version": 3
   },
   "file_extension": ".py",
   "mimetype": "text/x-python",
   "name": "python",
   "nbconvert_exporter": "python",
   "pygments_lexer": "ipython3",
   "version": "3.5.4"
  }
 },
 "nbformat": 4,
 "nbformat_minor": 2
}
